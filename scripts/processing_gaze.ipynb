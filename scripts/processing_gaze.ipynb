{
 "cells": [
  {
   "cell_type": "code",
   "execution_count": 2,
   "metadata": {},
   "outputs": [],
   "source": [
    "import pandas as pd\n",
    "import numpy as np\n",
    "import matplotlib.pyplot as plt\n",
    "%matplotlib inline\n",
    "from scipy.io import wavfile as wav\n",
    "from scipy import signal\n",
    "#from python_speech_features import mfcc, logfbank\n",
    "from scipy.fftpack import fft,fftfreq\n",
    "import os\n"
   ]
  },
  {
   "cell_type": "code",
   "execution_count": 58,
   "metadata": {},
   "outputs": [],
   "source": [
    "os.chdir('C:/Users/vandi/Documents/daicwoz_dataset/gaze')\n",
    "a=os.listdir()\n",
    "l = [[] for j in range(97)]\n",
    "#print(l)\n",
    "#print(len(l))\n",
    "#print(len(a))\n",
    "for i in range(len(a)):\n",
    "    #print(l)\n",
    "    #print(i)\n",
    "    #print(a[i])\n",
    "    gaze=pd.read_csv('C:/Users/vandi/Documents/daicwoz_dataset/gaze/'+a[i],sep=\",\")\n",
    "    #print (gaze.columns.tolist())\n",
    "    \n",
    "    s1=gaze[\" x_h0\"][1:]\n",
    "    s2=gaze[' x_h0'][:-1]\n",
    "    gl_x0=s2.reset_index()-s1.reset_index()\n",
    "    \n",
    "   # print(gl_x0[gl_x0[\" x_h0\"]>0.001].count()[0])\n",
    "    \n",
    "    l[i].append((gl_x0[gl_x0[\" x_h0\"]>0.001].count())[0])\n",
    "    #print(\"hi\")\n",
    "    s3=gaze[' x_h1'][1:]\n",
    "    s4=gaze[' x_h1'][:-1]\n",
    "    gl_x1=s4.reset_index()-s3.reset_index()\n",
    "    \n",
    "    #print ((gl_x1[gl_x1[\" x_h1\"]>0.001].count())[0])\n",
    "    l[i].append((gl_x1[gl_x1[\" x_h1\"]>0.001].count())[0])\n",
    "\n",
    "    s5=gaze[' y_h0'][1:]\n",
    "    s6=gaze[' y_h0'][:-1]\n",
    "    gl_y0=s6.reset_index()-s5.reset_index()\n",
    "    #print((gl_y0[gl_y0[\" y_h0\"]>0.001].count())[0])\n",
    "    l[i].append((gl_y0[gl_y0[\" y_h0\"]>0.001].count())[0])\n",
    "    \n",
    "    s7=gaze[' y_h1'][1:]\n",
    "    s8=gaze[' y_h1'][:-1]\n",
    "    gl_y1=s8.reset_index()-s7.reset_index()\n",
    "    #print((gl_y1[gl_y1[\" y_h1\"]>0.001].count())[0])\n",
    "    l[i].append((gl_y1[gl_y1[\" y_h1\"]>0.001].count())[0])\n",
    "\n",
    "    s9=gaze[' z_h0'][1:]\n",
    "    s10=gaze[' z_h0'][:-1]\n",
    "    gl_z0=s10.reset_index()-s9.reset_index()\n",
    "   # print((gl_z0[gl_z0[\" z_h0\"]>0.001].count())[0])\n",
    "    l[i].append((gl_z0[gl_z0[\" z_h0\"]>0.001].count())[0])\n",
    "    \n",
    "    s11=gaze[' z_h1'][1:]\n",
    "    s12=gaze[' z_h1'][:-1]\n",
    "    gl_z1=s12.reset_index()-s11.reset_index()\n",
    "    #print((gl_z1[gl_z1[\" z_h1\"]>0.001].count())[0])\n",
    "    l[i].append((gl_z1[gl_z1[\" z_h1\"]>0.001].count())[0])\n",
    "    #print(l[i])\n",
    "#print(l)\n",
    "\n",
    "df=pd.DataFrame(l)\n",
    "#df\n",
    "df.to_csv(\"C:/Users/vandi/Documents/final_year_proj/gaze_csv/gaze.csv\")\n"
   ]
  },
  {
   "cell_type": "code",
   "execution_count": 60,
   "metadata": {},
   "outputs": [
    {
     "name": "stdout",
     "output_type": "stream",
     "text": [
      "97\n",
      "97\n"
     ]
    }
   ],
   "source": [
    "print(len(a))\n",
    "print(len(l))"
   ]
  },
  {
   "cell_type": "code",
   "execution_count": null,
   "metadata": {},
   "outputs": [],
   "source": []
  }
 ],
 "metadata": {
  "kernelspec": {
   "display_name": "Python 3",
   "language": "python",
   "name": "python3"
  },
  "language_info": {
   "codemirror_mode": {
    "name": "ipython",
    "version": 3
   },
   "file_extension": ".py",
   "mimetype": "text/x-python",
   "name": "python",
   "nbconvert_exporter": "python",
   "pygments_lexer": "ipython3",
   "version": "3.7.3"
  }
 },
 "nbformat": 4,
 "nbformat_minor": 2
}
