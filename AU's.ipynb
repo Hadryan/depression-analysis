{
  "nbformat": 4,
  "nbformat_minor": 0,
  "metadata": {
    "colab": {
      "name": "AU's",
      "provenance": [],
      "include_colab_link": true
    },
    "kernelspec": {
      "name": "python3",
      "display_name": "Python 3"
    },
    "accelerator": "GPU"
  },
  "cells": [
    {
      "cell_type": "markdown",
      "metadata": {
        "id": "view-in-github",
        "colab_type": "text"
      },
      "source": [
        "<a href=\"https://colab.research.google.com/github/vanditagoyal1997/depression-analysis/blob/sankhya/AU's.ipynb\" target=\"_parent\"><img src=\"https://colab.research.google.com/assets/colab-badge.svg\" alt=\"Open In Colab\"/></a>"
      ]
    },
    {
      "cell_type": "code",
      "metadata": {
        "id": "nfye9qRRyjem",
        "colab_type": "code",
        "colab": {
          "base_uri": "https://localhost:8080/",
          "height": 100
        },
        "outputId": "a38f63f3-ac87-4f09-dd61-14e3330a4d81"
      },
      "source": [
        "%tensorflow_version 1.15.2\n",
        "import pandas as pd\n",
        "import numpy as np\n",
        "import matplotlib.pyplot as plt\n",
        "%matplotlib inline\n",
        "from scipy.io import wavfile as wav\n",
        "from scipy import signal\n",
        "from scipy.fftpack import fft,fftfreq\n",
        "import os"
      ],
      "execution_count": null,
      "outputs": [
        {
          "output_type": "stream",
          "text": [
            "`%tensorflow_version` only switches the major version: 1.x or 2.x.\n",
            "You set: `1.15.2`. This will be interpreted as: `1.x`.\n",
            "\n",
            "\n",
            "TensorFlow 1.x selected.\n"
          ],
          "name": "stdout"
        }
      ]
    },
    {
      "cell_type": "code",
      "metadata": {
        "id": "LDMmGsE6cqDp",
        "colab_type": "code",
        "colab": {
          "base_uri": "https://localhost:8080/",
          "height": 33
        },
        "outputId": "52262a53-1d03-464c-e703-ed367410c98f"
      },
      "source": [
        "from numpy import array\n",
        "import tensorflow as tf\n",
        "from tensorflow.python.keras.preprocessing.text import one_hot\n",
        "from keras.preprocessing.sequence import pad_sequences\n",
        "from tensorflow.python.keras.models import Sequential\n",
        "from tensorflow.python.keras.layers.core import Activation, Dropout, Dense\n",
        "from tensorflow.python.keras.layers import Flatten, LSTM\n",
        "from keras.models import Model\n",
        "from sklearn.model_selection import train_test_split\n",
        "from keras.utils import to_categorical\n",
        "from keras.preprocessing.sequence import pad_sequences\n",
        "from tensorflow.python.keras.layers import Masking\n",
        "import h5py"
      ],
      "execution_count": null,
      "outputs": [
        {
          "output_type": "stream",
          "text": [
            "Using TensorFlow backend.\n"
          ],
          "name": "stderr"
        }
      ]
    },
    {
      "cell_type": "code",
      "metadata": {
        "id": "tq4ATVke1tzm",
        "colab_type": "code",
        "colab": {
          "base_uri": "https://localhost:8080/",
          "height": 33
        },
        "outputId": "e2a93e10-3d02-44e1-a35c-cc09be63d271"
      },
      "source": [
        "from google.colab import drive\n",
        "drive.mount('/content/gdrive')"
      ],
      "execution_count": null,
      "outputs": [
        {
          "output_type": "stream",
          "text": [
            "Drive already mounted at /content/gdrive; to attempt to forcibly remount, call drive.mount(\"/content/gdrive\", force_remount=True).\n"
          ],
          "name": "stdout"
        }
      ]
    },
    {
      "cell_type": "code",
      "metadata": {
        "id": "PHLkMRvc1vRI",
        "colab_type": "code",
        "colab": {}
      },
      "source": [
        "os.listdir()\n",
        "os.chdir('gdrive')\n",
        "os.chdir('My Drive/final year project')"
      ],
      "execution_count": null,
      "outputs": []
    },
    {
      "cell_type": "code",
      "metadata": {
        "id": "SGGVoPaxO1My",
        "colab_type": "code",
        "colab": {}
      },
      "source": [
        "df_1=pd.read_csv('train_split_Depression_AVEC2017.csv')\n",
        "df_11=df_1.rename(columns={'PHQ8_Binary':'PHQ_Binary'})\n",
        "df_2=pd.read_csv('full_test_split.csv')\n",
        "df_3=pd.read_csv('full_test_split.csv')\n",
        "df_4=pd.concat([df_11,df_2,df_3]).drop_duplicates().reset_index(drop=True)"
      ],
      "execution_count": null,
      "outputs": []
    },
    {
      "cell_type": "code",
      "metadata": {
        "id": "itxOh3MsHmzy",
        "colab_type": "code",
        "colab": {
          "base_uri": "https://localhost:8080/",
          "height": 100
        },
        "outputId": "0da47da6-d5dc-4c09-8960-309921412240"
      },
      "source": [
        "df_4.columns"
      ],
      "execution_count": null,
      "outputs": [
        {
          "output_type": "execute_result",
          "data": {
            "text/plain": [
              "Index(['Participant_ID', 'PHQ_Binary', 'PHQ8_Score', 'Gender',\n",
              "       'PHQ8_NoInterest', 'PHQ8_Depressed', 'PHQ8_Sleep', 'PHQ8_Tired',\n",
              "       'PHQ8_Appetite', 'PHQ8_Failure', 'PHQ8_Concentrating', 'PHQ8_Moving',\n",
              "       'PHQ_Score'],\n",
              "      dtype='object')"
            ]
          },
          "metadata": {
            "tags": []
          },
          "execution_count": 8
        }
      ]
    },
    {
      "cell_type": "code",
      "metadata": {
        "id": "etAd73dI2BwB",
        "colab_type": "code",
        "colab": {
          "base_uri": "https://localhost:8080/",
          "height": 33
        },
        "outputId": "ad8e6585-5bfa-49ec-fcc4-55d35dc02a1a"
      },
      "source": [
        "id=df_4['Participant_ID'].tolist()\n",
        "id=np.array(id)\n",
        "score=df_4['PHQ_Binary'].tolist()\n",
        "score=np.array(score)\n",
        "f=os.listdir(\"au's\")\n",
        "temp=[]\n",
        "\n",
        "for i in f:\n",
        "  if len(id)==0:\n",
        "    break\n",
        "  elif int(i[0:3]) in id:\n",
        "    temp.append(i)\n",
        "len(temp)"
      ],
      "execution_count": null,
      "outputs": [
        {
          "output_type": "execute_result",
          "data": {
            "text/plain": [
              "154"
            ]
          },
          "metadata": {
            "tags": []
          },
          "execution_count": 10
        }
      ]
    },
    {
      "cell_type": "code",
      "metadata": {
        "id": "a8X3I8wSV6Pm",
        "colab_type": "code",
        "colab": {
          "base_uri": "https://localhost:8080/",
          "height": 33
        },
        "outputId": "42fef3c5-a495-4160-9c35-83735b73cb5a"
      },
      "source": [
        "table=[]\n",
        "flag=[]\n",
        "counter=1\n",
        "for i in temp:\n",
        "  flag=[]\n",
        "  df=pd.read_table(\"au's/\"+i,sep=\",\")\n",
        "  t=df.iloc[:,4:18]\n",
        "  # t=df[[\" AU01_r\",\" AU04_r\",\" AU15_r\"]]\n",
        "  my_list=[]\n",
        "  for index, rows in t.iterrows(): \n",
        "      # Create list for the current row \n",
        "      my_list =[rows[' AU01_r'],rows[' AU02_r'],rows[' AU04_r'],rows[' AU05_r'],rows[' AU06_r'],rows[' AU09_r'],rows[' AU10_r'],rows[' AU12_r'],\n",
        "                rows[' AU14_r'],rows[' AU15_r'],rows[' AU17_r'],rows[' AU20_r'],rows[' AU25_r'],rows[' AU26_r'],] \n",
        "        \n",
        "      # append the list to the final list \n",
        "      flag.append(my_list)\n",
        "  counter=counter+1\n",
        "  table.append(flag)\n",
        "np.array(table)\n",
        "\n",
        "padded=pad_sequences(table,padding='post')\n",
        "padded.shape"
      ],
      "execution_count": null,
      "outputs": [
        {
          "output_type": "execute_result",
          "data": {
            "text/plain": [
              "(154, 58989, 14)"
            ]
          },
          "metadata": {
            "tags": []
          },
          "execution_count": 14
        }
      ]
    },
    {
      "cell_type": "code",
      "metadata": {
        "id": "p494MENe2h5I",
        "colab_type": "code",
        "colab": {}
      },
      "source": [
        "y=df_4['PHQ_Binary'].tolist()\n",
        "print(y)\n",
        "Y=to_categorical(y,num_classes=2)\n",
        "print(Y)\n",
        "num_classes=2"
      ],
      "execution_count": null,
      "outputs": []
    },
    {
      "cell_type": "code",
      "metadata": {
        "id": "c5A6V_45dVJF",
        "colab_type": "code",
        "colab": {}
      },
      "source": [
        "y=df_4['PHQ_Binary'].tolist()\n",
        "print (y)\n",
        "X_train, X_test, Y_train, Y_test = train_test_split(padded, y, test_size=0.1)\n",
        "y_train=to_categorical(Y_train,num_classes=2)\n",
        "y_test=to_categorical(Y_test,num_classes=2)"
      ],
      "execution_count": null,
      "outputs": []
    },
    {
      "cell_type": "code",
      "metadata": {
        "id": "lVFRqHlfdX1J",
        "colab_type": "code",
        "colab": {}
      },
      "source": [
        "mod=Sequential()\n",
        "mod.add(Masking(mask_value=0, input_shape=(None, 14))) \n",
        "mod.add(LSTM(5,return_sequences=True ))\n",
        "mod.add(LSTM(10,return_sequences=True))\n",
        "mod.add(LSTM(5,return_sequences=True))\n",
        "mod.add(LSTM(10,return_sequences=False))\n",
        "mod.add(Dropout(0.2))\n",
        "# mod.add(Dense(100,activation='relu'))\n",
        "mod.add(Dense(10,activation='relu'))\n",
        "mod.add(Dense(2,activation='softmax'))\n",
        "mod.compile(optimizer='adam', loss='categorical_crossentropy',metrics=['accuracy'])"
      ],
      "execution_count": null,
      "outputs": []
    },
    {
      "cell_type": "code",
      "metadata": {
        "id": "plKInYWTdjGC",
        "colab_type": "code",
        "colab": {
          "base_uri": "https://localhost:8080/",
          "height": 318
        },
        "outputId": "cad32d02-268e-4366-85db-9f1b3b821ee7"
      },
      "source": [
        "mod.summary()"
      ],
      "execution_count": null,
      "outputs": [
        {
          "output_type": "stream",
          "text": [
            "Model: \"sequential_3\"\n",
            "_________________________________________________________________\n",
            "Layer (type)                 Output Shape              Param #   \n",
            "=================================================================\n",
            "masking_3 (Masking)          (None, None, 14)          0         \n",
            "_________________________________________________________________\n",
            "lstm_11 (LSTM)               (None, None, 20)          2800      \n",
            "_________________________________________________________________\n",
            "dropout_3 (Dropout)          (None, None, 20)          0         \n",
            "_________________________________________________________________\n",
            "dense_6 (Dense)              (None, None, 10)          210       \n",
            "_________________________________________________________________\n",
            "dense_7 (Dense)              (None, None, 2)           22        \n",
            "=================================================================\n",
            "Total params: 3,032\n",
            "Trainable params: 3,032\n",
            "Non-trainable params: 0\n",
            "_________________________________________________________________\n"
          ],
          "name": "stdout"
        }
      ]
    },
    {
      "cell_type": "code",
      "metadata": {
        "id": "I7AVd3Zzdmd5",
        "colab_type": "code",
        "colab": {
          "base_uri": "https://localhost:8080/",
          "height": 117
        },
        "outputId": "a1b4e41f-8bcc-4177-f2ad-b4ddaacc4054"
      },
      "source": [
        "mod.fit(X_train,y_train,validation_split=0.1,epochs=2)"
      ],
      "execution_count": null,
      "outputs": [
        {
          "output_type": "stream",
          "text": [
            "Train on 124 samples, validate on 14 samples\n",
            "Epoch 1/2\n",
            "124/124 [==============================] - 2519s 20s/sample - loss: 0.6585 - acc: 0.7500 - val_loss: 0.6954 - val_acc: 0.5714\n",
            "Epoch 2/2\n",
            "124/124 [==============================] - 2669s 22s/sample - loss: 0.6368 - acc: 0.7581 - val_loss: 0.6976 - val_acc: 0.5714\n"
          ],
          "name": "stdout"
        },
        {
          "output_type": "execute_result",
          "data": {
            "text/plain": [
              "<tensorflow.python.keras.callbacks.History at 0x7f6cbcfaca20>"
            ]
          },
          "metadata": {
            "tags": []
          },
          "execution_count": 20
        }
      ]
    },
    {
      "cell_type": "code",
      "metadata": {
        "id": "t4LNt8A2dpzz",
        "colab_type": "code",
        "colab": {}
      },
      "source": [
        "# mod.evaluate(X_test,y_test)\n",
        "mod.predict(X_test)"
      ],
      "execution_count": null,
      "outputs": []
    },
    {
      "cell_type": "code",
      "metadata": {
        "id": "6n5QacMuoGzI",
        "colab_type": "code",
        "colab": {}
      },
      "source": [
        "from keras.models import load_model\n",
        "from keras.utils import CustomObjectScope\n",
        "from keras.initializers import glorot_uniform\n",
        "import tensorflow as tf"
      ],
      "execution_count": null,
      "outputs": []
    },
    {
      "cell_type": "code",
      "metadata": {
        "id": "mNVlXoeJoH5F",
        "colab_type": "code",
        "colab": {}
      },
      "source": [
        "model_json = mod.to_json()\n",
        "with open(\"au.json\", \"w\") as json_file:\n",
        "    json_file.write(model_json)\n",
        "mod.save_weights(\"au.h5\")"
      ],
      "execution_count": null,
      "outputs": []
    },
    {
      "cell_type": "code",
      "metadata": {
        "id": "fDAGUVOtoKpN",
        "colab_type": "code",
        "colab": {}
      },
      "source": [
        "json_file = open('au.json', 'r')\n",
        "loaded_model_json = json_file.read()\n",
        "json_file.close()\n",
        "loaded_model = tf.keras.models.model_from_json(loaded_model_json)\n",
        "# load weights into new model\n",
        "loaded_model.load_weights(\"au.h5\")\n",
        "loaded_model.compile(loss='binary_crossentropy', optimizer='rmsprop', metrics=['accuracy'])\n",
        "# load_model.evaluate(X_test,y_test)\n",
        "score = loaded_model.evaluate(X_test,y_test, verbose=0)\n",
        "print(score)\n",
        "# loaded_model.predict(X_test)"
      ],
      "execution_count": null,
      "outputs": []
    }
  ]
}