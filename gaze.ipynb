{
 "cells": [
  {
   "cell_type": "code",
   "execution_count": null,
   "metadata": {},
   "outputs": [],
   "source": [
    "import pandas as pd\n",
    "import numpy as np\n",
    "import matplotlib.pyplot as plt\n",
    "%matplotlib inline\n",
    "from scipy.io import wavfile as wav\n",
    "from scipy import signal\n",
    "from python_speech_features import mfcc, logfbank\n",
    "from scipy.fftpack import fft,fftfreq\n",
    "import os\n"
   ]
  },
  {
   "cell_type": "code",
   "execution_count": null,
   "metadata": {},
   "outputs": [],
   "source": [
    "os.chdir('E:/final year project')\n",
    "a=os.listdir()\n",
    "l=[[0]*100]*100\n",
    "for i in range(len(a)):\n",
    "    gaze=pd.read_table('E:/final year project/'+a[i][:-1]+'_CLNF_gaze.txt',sep=\",\")\n",
    "    \n",
    "    \n",
    "    s1=gaze[' x_h0'][1:]\n",
    "    s2=gaze[' x_h0'][:-1]\n",
    "    gl_x0=s2.reset_index()-s1.reset_index()\n",
    "    \n",
    "    l[i].append((gl_x0[gl_x0[\" x_h0\"]>0.001].count())[0])\n",
    "    \n",
    "    s3=gaze[' x_h1'][1:]\n",
    "    s4=gaze[' x_h1'][:-1]\n",
    "    gl_x1=s4.reset_index()-s3.reset_index()\n",
    "    \n",
    "    l[i].append((gl_x1[gl_x1[\" x_h0\"]>0.001].count())[0])\n",
    "\n",
    "    s5=gaze[' y_h0'][1:]\n",
    "    s6=gaze[' y_h0'][:-1]\n",
    "    gl_y0=s6.reset_index()-s5.reset_index()\n",
    "    \n",
    "    l[i].append((gl_y0[gl_y0[\" x_h0\"]>0.001].count())[0])\n",
    "    \n",
    "    s7=gaze[' y_h1'][1:]\n",
    "    s8=gaze[' y_h1'][:-1]\n",
    "    gl_y1=s8.reset_index()-s7.reset_index()\n",
    "    \n",
    "    l[i].append((gl_y1[gl_y1[\" x_h0\"]>0.001].count())[0])\n",
    "\n",
    "    s9=gaze[' z_h0'][1:]\n",
    "    s10=gaze[' z_h0'][:-1]\n",
    "    gl_z0=s10.reset_index()-s9.reset_index()\n",
    "    \n",
    "    l[i].append((gl_z0[gl_z0[\" x_h0\"]>0.001].count())[0])\n",
    "    \n",
    "    s11=gaze[' z_h1'][1:]\n",
    "    s12=gaze[' z_h1'][:-1]\n",
    "    gl_z1=s12.reset_index()-s11.reset_index()\n",
    "    \n",
    "    l[i].append((gl_z1[gl_z1[\" x_h0\"]>0.001].count())[0])\n",
    "df=pd.dataframe(l)\n",
    "df.to_csv(\"C:/Users/Sankhya/Desktop/final project\")"
   ]
  },
  {
   "cell_type": "code",
   "execution_count": null,
   "metadata": {},
   "outputs": [],
   "source": [
    "gaze_0=pd.read_table('300_CLNF_gaze.txt',sep=\",\")\n",
    "gaze_1=pd.read_table('301_CLNF_gaze.txt',sep=\",\")\n",
    "gaze_2=pd.read_table('302_CLNF_gaze.txt',sep=\",\")"
   ]
  },
  {
   "cell_type": "code",
   "execution_count": null,
   "metadata": {},
   "outputs": [],
   "source": [
    "s1=gaze_0[' x_h0'][1:]\n",
    "s2=gaze_0[' x_h0'][:-1]\n",
    "gl_x0=s2.reset_index()-s1.reset_index()\n",
    "s3=gaze_0[' x_h1'][1:]\n",
    "s4=gaze_0[' x_h1'][:-1]\n",
    "gl_x1=s4.reset_index()-s3.reset_index()\n",
    "\n",
    "s5=gaze_0[' y_h0'][1:]\n",
    "s6=gaze_0[' y_h0'][:-1]\n",
    "gl_y0=s6.reset_index()-s5.reset_index()\n",
    "s7=gaze_0[' y_h1'][1:]\n",
    "s8=gaze_0[' y_h1'][:-1]\n",
    "gl_y1=s8.reset_index()-s7.reset_index()\n",
    "\n",
    "s9=gaze_0[' z_h0'][1:]\n",
    "s10=gaze_0[' z_h0'][:-1]\n",
    "gl_z0=s10.reset_index()-s9.reset_index()\n",
    "s11=gaze_0[' z_h1'][1:]\n",
    "s12=gaze_0[' z_h1'][:-1]\n",
    "gl_z1=s12.reset_index()-s11.reset_index()"
   ]
  },
  {
   "cell_type": "code",
   "execution_count": null,
   "metadata": {},
   "outputs": [],
   "source": [
    "gl_x0[gl_x0[\" x_h0\"]>0.001].count(),gl_x1[gl_x1[\" x_h1\"]>0.001].count(),gl_y0[gl_y0[\" y_h0\"]>0.001].count(),gl_y1[gl_y1[\" y_h1\"]>0.001].count(),gl_z0[gl_z0[\" z_h0\"]>0.001].count(),gl_z1[gl_z1[\" z_h1\"]>0.001].count()"
   ]
  }
 ],
 "metadata": {
  "kernelspec": {
   "display_name": "Python 3",
   "language": "python",
   "name": "python3"
  },
  "language_info": {
   "codemirror_mode": {
    "name": "ipython",
    "version": 3
   },
   "file_extension": ".py",
   "mimetype": "text/x-python",
   "name": "python",
   "nbconvert_exporter": "python",
   "pygments_lexer": "ipython3",
   "version": "3.7.3"
  }
 },
 "nbformat": 4,
 "nbformat_minor": 2
}
