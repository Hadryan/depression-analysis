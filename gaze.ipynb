{
  "nbformat": 4,
  "nbformat_minor": 0,
  "metadata": {
    "kernelspec": {
      "name": "python3",
      "display_name": "Python 3"
    },
    "language_info": {
      "codemirror_mode": {
        "name": "ipython",
        "version": 3
      },
      "file_extension": ".py",
      "mimetype": "text/x-python",
      "name": "python",
      "nbconvert_exporter": "python",
      "pygments_lexer": "ipython3",
      "version": "3.7.3"
    },
    "colab": {
      "name": "gaze.ipynb",
      "provenance": [],
      "collapsed_sections": [],
      "machine_shape": "hm",
      "include_colab_link": true
    },
    "accelerator": "GPU"
  },
  "cells": [
    {
      "cell_type": "markdown",
      "metadata": {
        "id": "view-in-github",
        "colab_type": "text"
      },
      "source": [
        "<a href=\"https://colab.research.google.com/github/vanditagoyal1997/depression-analysis/blob/sankhya/gaze.ipynb\" target=\"_parent\"><img src=\"https://colab.research.google.com/assets/colab-badge.svg\" alt=\"Open In Colab\"/></a>"
      ]
    },
    {
      "cell_type": "code",
      "metadata": {
        "id": "_t5FzlFozZ2V",
        "colab_type": "code",
        "colab": {
          "base_uri": "https://localhost:8080/",
          "height": 100
        },
        "outputId": "c4cc7f28-9652-4cd6-e610-ce94616a1fcc"
      },
      "source": [
        "# 1\n",
        "%tensorflow_version 1.15.2\n",
        "import pandas as pd\n",
        "import numpy as np\n",
        "import matplotlib.pyplot as plt\n",
        "%matplotlib inline\n",
        "from scipy.io import wavfile as wav\n",
        "from scipy import signal\n",
        "from scipy.fftpack import fft,fftfreq\n",
        "import os\n"
      ],
      "execution_count": null,
      "outputs": [
        {
          "output_type": "stream",
          "text": [
            "`%tensorflow_version` only switches the major version: 1.x or 2.x.\n",
            "You set: `1.15.2`. This will be interpreted as: `1.x`.\n",
            "\n",
            "\n",
            "TensorFlow is already loaded. Please restart the runtime to change versions.\n"
          ],
          "name": "stdout"
        }
      ]
    },
    {
      "cell_type": "code",
      "metadata": {
        "id": "4VB62TYS8YiJ",
        "colab_type": "code",
        "colab": {
          "base_uri": "https://localhost:8080/",
          "height": 120
        },
        "outputId": "671dacfb-4a75-482d-b12d-320abea4cf86"
      },
      "source": [
        "from google.colab import drive\n",
        "drive.mount('/content/gdrive')"
      ],
      "execution_count": null,
      "outputs": [
        {
          "output_type": "stream",
          "text": [
            "Go to this URL in a browser: https://accounts.google.com/o/oauth2/auth?client_id=947318989803-6bn6qk8qdgf4n4g3pfee6491hc0brc4i.apps.googleusercontent.com&redirect_uri=urn%3aietf%3awg%3aoauth%3a2.0%3aoob&response_type=code&scope=email%20https%3a%2f%2fwww.googleapis.com%2fauth%2fdocs.test%20https%3a%2f%2fwww.googleapis.com%2fauth%2fdrive%20https%3a%2f%2fwww.googleapis.com%2fauth%2fdrive.photos.readonly%20https%3a%2f%2fwww.googleapis.com%2fauth%2fpeopleapi.readonly\n",
            "\n",
            "Enter your authorization code:\n",
            "··········\n",
            "Mounted at /content/gdrive\n"
          ],
          "name": "stdout"
        }
      ]
    },
    {
      "cell_type": "code",
      "metadata": {
        "id": "grSbC-di8elK",
        "colab_type": "code",
        "colab": {}
      },
      "source": [
        "os.listdir()os.chdir('gdrive')\n",
        "os.chdir('My Drive/final year project')"
      ],
      "execution_count": null,
      "outputs": []
    },
    {
      "cell_type": "markdown",
      "metadata": {
        "id": "E8FskkzWFYWN",
        "colab_type": "text"
      },
      "source": [
        "Just some random stuf!!!"
      ]
    },
    {
      "cell_type": "markdown",
      "metadata": {
        "id": "8vI-zMG3zZ5e",
        "colab_type": "text"
      },
      "source": [
        "# using lstm for gaze sequence prediction"
      ]
    },
    {
      "cell_type": "code",
      "metadata": {
        "id": "x6cbEIIbzZ6k",
        "colab_type": "code",
        "colab": {
          "base_uri": "https://localhost:8080/",
          "height": 33
        },
        "outputId": "666a8681-8804-41a4-a05e-04593c5fd427"
      },
      "source": [
        "from numpy import array\n",
        "import tensorflow as tf\n",
        "from tensorflow.python.keras.preprocessing.text import one_hot\n",
        "from keras.preprocessing.sequence import pad_sequences\n",
        "from tensorflow.python.keras.models import Sequential\n",
        "from tensorflow.python.keras.layers.core import Activation, Dropout, Dense\n",
        "from tensorflow.python.keras.layers import Flatten, LSTM\n",
        "from keras.models import Model\n",
        "from sklearn.model_selection import train_test_split\n",
        "from keras.utils import to_categorical\n",
        "from keras.preprocessing.sequence import pad_sequences\n",
        "from tensorflow.python.keras.layers import Masking"
      ],
      "execution_count": null,
      "outputs": [
        {
          "output_type": "stream",
          "text": [
            "Using TensorFlow backend.\n"
          ],
          "name": "stderr"
        }
      ]
    },
    {
      "cell_type": "markdown",
      "metadata": {
        "id": "7qBUNeutzzf-",
        "colab_type": "text"
      },
      "source": [
        "write a script to read all the gaze csv's and take out the necessary columns"
      ]
    },
    {
      "cell_type": "code",
      "metadata": {
        "id": "83F2zNNP0HIv",
        "colab_type": "code",
        "colab": {
          "base_uri": "https://localhost:8080/",
          "height": 120
        },
        "outputId": "a34b9284-c02a-4e5b-e50f-704d77655b96"
      },
      "source": [
        "from google.colab import drive\n",
        "drive.mount('/content/gdrive')"
      ],
      "execution_count": null,
      "outputs": [
        {
          "output_type": "stream",
          "text": [
            "Go to this URL in a browser: https://accounts.google.com/o/oauth2/auth?client_id=947318989803-6bn6qk8qdgf4n4g3pfee6491hc0brc4i.apps.googleusercontent.com&redirect_uri=urn%3aietf%3awg%3aoauth%3a2.0%3aoob&response_type=code&scope=email%20https%3a%2f%2fwww.googleapis.com%2fauth%2fdocs.test%20https%3a%2f%2fwww.googleapis.com%2fauth%2fdrive%20https%3a%2f%2fwww.googleapis.com%2fauth%2fdrive.photos.readonly%20https%3a%2f%2fwww.googleapis.com%2fauth%2fpeopleapi.readonly\n",
            "\n",
            "Enter your authorization code:\n",
            "··········\n",
            "Mounted at /content/gdrive\n"
          ],
          "name": "stdout"
        }
      ]
    },
    {
      "cell_type": "code",
      "metadata": {
        "id": "-XYTnHzD1mXm",
        "colab_type": "code",
        "colab": {}
      },
      "source": [
        "os.listdir()\n",
        "#os.chdir('gdrive')\n",
        "os.chdir('/content/gdrive/My Drive/final year project')"
      ],
      "execution_count": null,
      "outputs": []
    },
    {
      "cell_type": "code",
      "metadata": {
        "id": "9tzj40NnmmT1",
        "colab_type": "code",
        "colab": {}
      },
      "source": [
        "df_1=pd.read_csv('train_split_Depression_AVEC2017.csv')\n",
        "df_11=df_1.rename(columns={'PHQ8_Binary':'PHQ_Binary'})\n",
        "df_2=pd.read_csv('full_test_split.csv')\n",
        "df_3=pd.read_csv('full_test_split.csv')\n",
        "df_4=pd.concat([df_11,df_2,df_3]).drop_duplicates().reset_index(drop=True)\n"
      ],
      "execution_count": null,
      "outputs": []
    },
    {
      "cell_type": "code",
      "metadata": {
        "id": "H6uFeXq-3_ef",
        "colab_type": "code",
        "colab": {
          "base_uri": "https://localhost:8080/",
          "height": 424
        },
        "outputId": "7f4f63f8-ad85-43cd-de5b-383e81b08eb7"
      },
      "source": [
        "df_4"
      ],
      "execution_count": null,
      "outputs": [
        {
          "output_type": "execute_result",
          "data": {
            "text/html": [
              "<div>\n",
              "<style scoped>\n",
              "    .dataframe tbody tr th:only-of-type {\n",
              "        vertical-align: middle;\n",
              "    }\n",
              "\n",
              "    .dataframe tbody tr th {\n",
              "        vertical-align: top;\n",
              "    }\n",
              "\n",
              "    .dataframe thead th {\n",
              "        text-align: right;\n",
              "    }\n",
              "</style>\n",
              "<table border=\"1\" class=\"dataframe\">\n",
              "  <thead>\n",
              "    <tr style=\"text-align: right;\">\n",
              "      <th></th>\n",
              "      <th>Participant_ID</th>\n",
              "      <th>PHQ_Binary</th>\n",
              "      <th>PHQ8_Score</th>\n",
              "      <th>Gender</th>\n",
              "      <th>PHQ8_NoInterest</th>\n",
              "      <th>PHQ8_Depressed</th>\n",
              "      <th>PHQ8_Sleep</th>\n",
              "      <th>PHQ8_Tired</th>\n",
              "      <th>PHQ8_Appetite</th>\n",
              "      <th>PHQ8_Failure</th>\n",
              "      <th>PHQ8_Concentrating</th>\n",
              "      <th>PHQ8_Moving</th>\n",
              "      <th>PHQ_Score</th>\n",
              "    </tr>\n",
              "  </thead>\n",
              "  <tbody>\n",
              "    <tr>\n",
              "      <th>0</th>\n",
              "      <td>303</td>\n",
              "      <td>0</td>\n",
              "      <td>0.0</td>\n",
              "      <td>0</td>\n",
              "      <td>0.0</td>\n",
              "      <td>0.0</td>\n",
              "      <td>0.0</td>\n",
              "      <td>0.0</td>\n",
              "      <td>0.0</td>\n",
              "      <td>0.0</td>\n",
              "      <td>0.0</td>\n",
              "      <td>0.0</td>\n",
              "      <td>NaN</td>\n",
              "    </tr>\n",
              "    <tr>\n",
              "      <th>1</th>\n",
              "      <td>304</td>\n",
              "      <td>0</td>\n",
              "      <td>6.0</td>\n",
              "      <td>0</td>\n",
              "      <td>0.0</td>\n",
              "      <td>1.0</td>\n",
              "      <td>1.0</td>\n",
              "      <td>2.0</td>\n",
              "      <td>2.0</td>\n",
              "      <td>0.0</td>\n",
              "      <td>0.0</td>\n",
              "      <td>0.0</td>\n",
              "      <td>NaN</td>\n",
              "    </tr>\n",
              "    <tr>\n",
              "      <th>2</th>\n",
              "      <td>305</td>\n",
              "      <td>0</td>\n",
              "      <td>7.0</td>\n",
              "      <td>1</td>\n",
              "      <td>0.0</td>\n",
              "      <td>1.0</td>\n",
              "      <td>1.0</td>\n",
              "      <td>2.0</td>\n",
              "      <td>2.0</td>\n",
              "      <td>1.0</td>\n",
              "      <td>0.0</td>\n",
              "      <td>0.0</td>\n",
              "      <td>NaN</td>\n",
              "    </tr>\n",
              "    <tr>\n",
              "      <th>3</th>\n",
              "      <td>310</td>\n",
              "      <td>0</td>\n",
              "      <td>4.0</td>\n",
              "      <td>1</td>\n",
              "      <td>1.0</td>\n",
              "      <td>1.0</td>\n",
              "      <td>0.0</td>\n",
              "      <td>0.0</td>\n",
              "      <td>0.0</td>\n",
              "      <td>1.0</td>\n",
              "      <td>1.0</td>\n",
              "      <td>0.0</td>\n",
              "      <td>NaN</td>\n",
              "    </tr>\n",
              "    <tr>\n",
              "      <th>4</th>\n",
              "      <td>312</td>\n",
              "      <td>0</td>\n",
              "      <td>2.0</td>\n",
              "      <td>1</td>\n",
              "      <td>0.0</td>\n",
              "      <td>0.0</td>\n",
              "      <td>1.0</td>\n",
              "      <td>1.0</td>\n",
              "      <td>0.0</td>\n",
              "      <td>0.0</td>\n",
              "      <td>0.0</td>\n",
              "      <td>0.0</td>\n",
              "      <td>NaN</td>\n",
              "    </tr>\n",
              "    <tr>\n",
              "      <th>...</th>\n",
              "      <td>...</td>\n",
              "      <td>...</td>\n",
              "      <td>...</td>\n",
              "      <td>...</td>\n",
              "      <td>...</td>\n",
              "      <td>...</td>\n",
              "      <td>...</td>\n",
              "      <td>...</td>\n",
              "      <td>...</td>\n",
              "      <td>...</td>\n",
              "      <td>...</td>\n",
              "      <td>...</td>\n",
              "      <td>...</td>\n",
              "    </tr>\n",
              "    <tr>\n",
              "      <th>149</th>\n",
              "      <td>467</td>\n",
              "      <td>0</td>\n",
              "      <td>NaN</td>\n",
              "      <td>1</td>\n",
              "      <td>NaN</td>\n",
              "      <td>NaN</td>\n",
              "      <td>NaN</td>\n",
              "      <td>NaN</td>\n",
              "      <td>NaN</td>\n",
              "      <td>NaN</td>\n",
              "      <td>NaN</td>\n",
              "      <td>NaN</td>\n",
              "      <td>0.0</td>\n",
              "    </tr>\n",
              "    <tr>\n",
              "      <th>150</th>\n",
              "      <td>469</td>\n",
              "      <td>0</td>\n",
              "      <td>NaN</td>\n",
              "      <td>0</td>\n",
              "      <td>NaN</td>\n",
              "      <td>NaN</td>\n",
              "      <td>NaN</td>\n",
              "      <td>NaN</td>\n",
              "      <td>NaN</td>\n",
              "      <td>NaN</td>\n",
              "      <td>NaN</td>\n",
              "      <td>NaN</td>\n",
              "      <td>3.0</td>\n",
              "    </tr>\n",
              "    <tr>\n",
              "      <th>151</th>\n",
              "      <td>470</td>\n",
              "      <td>0</td>\n",
              "      <td>NaN</td>\n",
              "      <td>0</td>\n",
              "      <td>NaN</td>\n",
              "      <td>NaN</td>\n",
              "      <td>NaN</td>\n",
              "      <td>NaN</td>\n",
              "      <td>NaN</td>\n",
              "      <td>NaN</td>\n",
              "      <td>NaN</td>\n",
              "      <td>NaN</td>\n",
              "      <td>3.0</td>\n",
              "    </tr>\n",
              "    <tr>\n",
              "      <th>152</th>\n",
              "      <td>480</td>\n",
              "      <td>0</td>\n",
              "      <td>NaN</td>\n",
              "      <td>1</td>\n",
              "      <td>NaN</td>\n",
              "      <td>NaN</td>\n",
              "      <td>NaN</td>\n",
              "      <td>NaN</td>\n",
              "      <td>NaN</td>\n",
              "      <td>NaN</td>\n",
              "      <td>NaN</td>\n",
              "      <td>NaN</td>\n",
              "      <td>1.0</td>\n",
              "    </tr>\n",
              "    <tr>\n",
              "      <th>153</th>\n",
              "      <td>481</td>\n",
              "      <td>0</td>\n",
              "      <td>NaN</td>\n",
              "      <td>1</td>\n",
              "      <td>NaN</td>\n",
              "      <td>NaN</td>\n",
              "      <td>NaN</td>\n",
              "      <td>NaN</td>\n",
              "      <td>NaN</td>\n",
              "      <td>NaN</td>\n",
              "      <td>NaN</td>\n",
              "      <td>NaN</td>\n",
              "      <td>7.0</td>\n",
              "    </tr>\n",
              "  </tbody>\n",
              "</table>\n",
              "<p>154 rows × 13 columns</p>\n",
              "</div>"
            ],
            "text/plain": [
              "     Participant_ID  PHQ_Binary  ...  PHQ8_Moving  PHQ_Score\n",
              "0               303           0  ...          0.0        NaN\n",
              "1               304           0  ...          0.0        NaN\n",
              "2               305           0  ...          0.0        NaN\n",
              "3               310           0  ...          0.0        NaN\n",
              "4               312           0  ...          0.0        NaN\n",
              "..              ...         ...  ...          ...        ...\n",
              "149             467           0  ...          NaN        0.0\n",
              "150             469           0  ...          NaN        3.0\n",
              "151             470           0  ...          NaN        3.0\n",
              "152             480           0  ...          NaN        1.0\n",
              "153             481           0  ...          NaN        7.0\n",
              "\n",
              "[154 rows x 13 columns]"
            ]
          },
          "metadata": {
            "tags": []
          },
          "execution_count": 22
        }
      ]
    },
    {
      "cell_type": "code",
      "metadata": {
        "id": "JPxyXD1H2H4s",
        "colab_type": "code",
        "colab": {
          "base_uri": "https://localhost:8080/",
          "height": 33
        },
        "outputId": "41a1edb7-0463-492c-9d96-c6ae9b26372a"
      },
      "source": [
        "df=pd.read_csv('train_split_Depression_AVEC2017.csv')\n",
        "id=df_4['Participant_ID'].tolist()\n",
        "id=np.array(id)\n",
        "score=df_4['PHQ_Binary'].tolist()\n",
        "score=np.array(score)\n",
        "f=os.listdir('gaze')\n",
        "temp=[]\n",
        "\n",
        "for i in f:\n",
        "  if len(id)==0:\n",
        "    break\n",
        "  elif int(i[0:3]) in id:\n",
        "    temp.append(i)\n",
        "len(temp)"
      ],
      "execution_count": null,
      "outputs": [
        {
          "output_type": "execute_result",
          "data": {
            "text/plain": [
              "154"
            ]
          },
          "metadata": {
            "tags": []
          },
          "execution_count": 6
        }
      ]
    },
    {
      "cell_type": "markdown",
      "metadata": {
        "id": "WElvoTCdXIqs",
        "colab_type": "text"
      },
      "source": [
        "below is the code to read all the text files and make get them into tables"
      ]
    },
    {
      "cell_type": "code",
      "metadata": {
        "id": "gbzmaLqCARXo",
        "colab_type": "code",
        "colab": {
          "base_uri": "https://localhost:8080/",
          "height": 33
        },
        "outputId": "c29b02b8-8fcc-4cbf-e03e-f4c42c5e7456"
      },
      "source": [
        "table=[]\n",
        "flag=[]\n",
        "for i in temp:\n",
        "  # print(i)\n",
        "  flag=[]\n",
        "  df=pd.read_table('gaze/'+i,sep=\",\")\n",
        "  t=df.iloc[:,3:16]\n",
        "  t.rename(columns={' success':'success',' x_0':'x_0',' y_0':'y_0',' z_0':'z_0',' x_1':'x_1',' y_1':'y_1',' z_1':'z_1',\n",
        "                    ' x_h0':'x_h0',' y_h0':'y_h0',' z_h0':'z_h0',' x_h1':'x_h1',' y_h1':'y_h1',' z_h1':'z_h1'},inplace=True)\n",
        "  \n",
        "  my_list=[]\n",
        "  for index, rows in t.iterrows(): \n",
        "      # Create list for the current row \n",
        "      my_list =[rows.success,rows.x_0, rows.y_0, rows.z_0,rows.x_1, rows.y_1, rows.z_1,\n",
        "                rows.success,rows.x_h0, rows.y_h0, rows.z_h0,rows.x_h1, rows.y_h1, rows.z_h1] \n",
        "        \n",
        "      # append the list to the final list \n",
        "      flag.append(my_list)\n",
        "  # print('check')\n",
        "  table.append(flag)\n",
        "np.array(table)\n",
        "\n",
        "padded=pad_sequences(table,padding='post')\n",
        "padded.shape"
      ],
      "execution_count": null,
      "outputs": [
        {
          "output_type": "execute_result",
          "data": {
            "text/plain": [
              "(154, 58989, 14)"
            ]
          },
          "metadata": {
            "tags": []
          },
          "execution_count": 12
        }
      ]
    },
    {
      "cell_type": "code",
      "metadata": {
        "scrolled": true,
        "id": "UklwHJqpzZ5j",
        "colab_type": "code",
        "colab": {}
      },
      "source": [
        "y=df_4['PHQ_Binary'].tolist()\n",
        "\n",
        "Y=to_categorical(y,num_classes=2)\n",
        "num_classes=2\n"
      ],
      "execution_count": null,
      "outputs": []
    },
    {
      "cell_type": "code",
      "metadata": {
        "id": "HbKew8zbjHlz",
        "colab_type": "code",
        "colab": {}
      },
      "source": [
        "y=df_4['PHQ_Binary'].tolist()\n",
        "X_train, X_test, Y_train, Y_test = train_test_split(padded, y, test_size=0.1)\n",
        "y_train=to_categorical(Y_train,num_classes=2)\n",
        "y_test=to_categorical(Y_test,num_classes=2)"
      ],
      "execution_count": null,
      "outputs": []
    },
    {
      "cell_type": "code",
      "metadata": {
        "id": "RIn7cdPG3pHr",
        "colab_type": "code",
        "colab": {}
      },
      "source": [
        "X_test"
      ],
      "execution_count": null,
      "outputs": []
    },
    {
      "cell_type": "code",
      "metadata": {
        "id": "F8xShLs3zZ6w",
        "colab_type": "code",
        "colab": {
          "base_uri": "https://localhost:8080/",
          "height": 33
        },
        "outputId": "309f6002-005c-4380-c734-b0dc53f8f414"
      },
      "source": [
        "y=[1,0,1]\n",
        "# y=to_categorical(y,num_classes=2)\n",
        "y=np.array(y)\n",
        "y.reshape(3)\n"
      ],
      "execution_count": null,
      "outputs": [
        {
          "output_type": "execute_result",
          "data": {
            "text/plain": [
              "array([1, 0, 1])"
            ]
          },
          "metadata": {
            "tags": []
          },
          "execution_count": 13
        }
      ]
    },
    {
      "cell_type": "code",
      "metadata": {
        "scrolled": true,
        "id": "U6qAKQYKzZ6-",
        "colab_type": "code",
        "colab": {}
      },
      "source": [
        "mod=Sequential()\n",
        "mod.add(Masking(mask_value=0, input_shape=(None, 14)))\n",
        "mod.add(LSTM(6,return_sequences=True ))\n",
        "mod.add(LSTM(3,return_sequences=True ))\n",
        "mod.add(LSTM(3,return_sequences=False))\n",
        "mod.add(Dense(3,activation='sigmoid'))\n",
        "mod.add(Dense(2,activation='sigmoid'))\n",
        "mod.compile(optimizer='sgd', loss='mse', metrics = ['accuracy','mse'])\n"
      ],
      "execution_count": null,
      "outputs": []
    },
    {
      "cell_type": "code",
      "metadata": {
        "id": "bnGYTQR6zZ7P",
        "colab_type": "code",
        "colab": {
          "base_uri": "https://localhost:8080/",
          "height": 351
        },
        "outputId": "a5fc5e03-c517-4749-ada8-5beb42879241"
      },
      "source": [
        "mod.summary()"
      ],
      "execution_count": null,
      "outputs": [
        {
          "output_type": "stream",
          "text": [
            "Model: \"sequential_3\"\n",
            "_________________________________________________________________\n",
            "Layer (type)                 Output Shape              Param #   \n",
            "=================================================================\n",
            "masking_3 (Masking)          (None, None, 14)          0         \n",
            "_________________________________________________________________\n",
            "lstm_10 (LSTM)               (None, None, 6)           504       \n",
            "_________________________________________________________________\n",
            "lstm_11 (LSTM)               (None, None, 3)           120       \n",
            "_________________________________________________________________\n",
            "lstm_12 (LSTM)               (None, 3)                 84        \n",
            "_________________________________________________________________\n",
            "dense_6 (Dense)              (None, 3)                 12        \n",
            "_________________________________________________________________\n",
            "dense_7 (Dense)              (None, 2)                 8         \n",
            "=================================================================\n",
            "Total params: 728\n",
            "Trainable params: 728\n",
            "Non-trainable params: 0\n",
            "_________________________________________________________________\n"
          ],
          "name": "stdout"
        }
      ]
    },
    {
      "cell_type": "code",
      "metadata": {
        "scrolled": true,
        "id": "DEC9vbLEzZ7V",
        "colab_type": "code",
        "colab": {
          "base_uri": "https://localhost:8080/",
          "height": 120
        },
        "outputId": "4e730274-0bad-4d34-bec5-b2e08ea1f7c0"
      },
      "source": [
        "mod.fit(X_train,y_train, validation_split=0.1 ,epochs=2, batch_size=128)"
      ],
      "execution_count": null,
      "outputs": [
        {
          "output_type": "stream",
          "text": [
            "Epoch 1/2\n",
            "1/1 [==============================] - 4s 4s/step - loss: 0.2103 - accuracy: 0.7097 - mse: 0.2103 - val_loss: 0.2312 - val_accuracy: 0.6429 - val_mse: 0.2312\n",
            "Epoch 2/2\n",
            "1/1 [==============================] - 4s 4s/step - loss: 0.2102 - accuracy: 0.7097 - mse: 0.2102 - val_loss: 0.2312 - val_accuracy: 0.6429 - val_mse: 0.2312\n"
          ],
          "name": "stdout"
        },
        {
          "output_type": "execute_result",
          "data": {
            "text/plain": [
              "<tensorflow.python.keras.callbacks.History at 0x7f8193dc9128>"
            ]
          },
          "metadata": {
            "tags": []
          },
          "execution_count": 28
        }
      ]
    },
    {
      "cell_type": "code",
      "metadata": {
        "id": "KRc5g73ZzZ7e",
        "colab_type": "code",
        "colab": {
          "base_uri": "https://localhost:8080/",
          "height": 552
        },
        "outputId": "e650449d-79f2-4532-867f-e9ad06139ac8"
      },
      "source": [
        "print(mod.predict(X_test))\n",
        "y_test"
      ],
      "execution_count": null,
      "outputs": [
        {
          "output_type": "stream",
          "text": [
            "[[0.7033392  0.3778022 ]\n",
            " [0.6944963  0.38542625]\n",
            " [0.6944963  0.38542625]\n",
            " [0.6944963  0.38542625]\n",
            " [0.7003017  0.38027996]\n",
            " [0.7019233  0.3790456 ]\n",
            " [0.6944963  0.38542625]\n",
            " [0.6944968  0.38542518]\n",
            " [0.70333904 0.37780285]\n",
            " [0.7033383  0.37780434]\n",
            " [0.7033392  0.3778022 ]\n",
            " [0.6944963  0.38542625]\n",
            " [0.7033392  0.3778022 ]\n",
            " [0.6945006  0.38542038]\n",
            " [0.7033392  0.3778022 ]\n",
            " [0.7017423  0.3793378 ]]\n"
          ],
          "name": "stdout"
        },
        {
          "output_type": "execute_result",
          "data": {
            "text/plain": [
              "array([[1., 0.],\n",
              "       [1., 0.],\n",
              "       [1., 0.],\n",
              "       [1., 0.],\n",
              "       [1., 0.],\n",
              "       [1., 0.],\n",
              "       [1., 0.],\n",
              "       [0., 1.],\n",
              "       [1., 0.],\n",
              "       [0., 1.],\n",
              "       [1., 0.],\n",
              "       [1., 0.],\n",
              "       [1., 0.],\n",
              "       [1., 0.],\n",
              "       [1., 0.],\n",
              "       [0., 1.]], dtype=float32)"
            ]
          },
          "metadata": {
            "tags": []
          },
          "execution_count": 36
        }
      ]
    },
    {
      "cell_type": "code",
      "metadata": {
        "id": "4ctuKFaUzZ7l",
        "colab_type": "code",
        "colab": {}
      },
      "source": [
        "from keras.models import load_model\n",
        "from keras.utils import CustomObjectScope\n",
        "from keras.initializers import glorot_uniform\n",
        "import tensorflow as tf"
      ],
      "execution_count": null,
      "outputs": []
    },
    {
      "cell_type": "code",
      "metadata": {
        "id": "tAecZG07nwxj",
        "colab_type": "code",
        "colab": {}
      },
      "source": [
        "model_json = mod.to_json()\n",
        "with open(\"gaze.json\", \"w\") as json_file:\n",
        "    json_file.write(model_json)\n",
        "mod.save_weights(\"gaze.h5\")"
      ],
      "execution_count": null,
      "outputs": []
    },
    {
      "cell_type": "code",
      "metadata": {
        "id": "Fu6ggrHin1iK",
        "colab_type": "code",
        "colab": {}
      },
      "source": [
        "json_file = open('gaze.json', 'r')\n",
        "loaded_model_json = json_file.read()\n",
        "json_file.close()\n",
        "loaded_model = tf.keras.models.model_from_json(loaded_model_json)\n",
        "# load weights into new model\n",
        "loaded_model.load_weights(\"gaze.h5\")\n",
        "loaded_model.compile(loss='binary_crossentropy', optimizer='rmsprop', metrics=['accuracy'])\n",
        "# load_model.evaluate(X_test,y_test)\n",
        "score = loaded_model.evaluate(X_test,y_test, verbose=0)\n",
        "print(score)\n",
        "# loaded_model.predict(X_test)"
      ],
      "execution_count": null,
      "outputs": []
    }
  ]
}